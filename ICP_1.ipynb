{
  "nbformat": 4,
  "nbformat_minor": 0,
  "metadata": {
    "colab": {
      "provenance": []
    },
    "kernelspec": {
      "name": "python3",
      "display_name": "Python 3"
    },
    "language_info": {
      "name": "python"
    }
  },
  "cells": [
    {
      "cell_type": "code",
      "source": [
        "#Program 1\n",
        "\n",
        "# Input the string \"Python\"\n",
        "ip = list(input(\"Enter the string: \"))\n",
        "\n",
        "# Deleting at least 2 characters\n",
        "if len(ip) >= 2:\n",
        "    del ip[:2]\n",
        "\n",
        "# Reverse the obtained string\n",
        "resultant_string = ip[::-1]\n",
        "\n",
        "# Print the final reversed string\n",
        "print(\"Sample output:\")\n",
        "print(\"\".join(resultant_string))\n",
        "\n"
      ],
      "metadata": {
        "colab": {
          "base_uri": "https://localhost:8080/"
        },
        "id": "tlk4pGLySRR7",
        "outputId": "6ef58387-b09e-4683-fa8b-ac4d9e0229a9"
      },
      "execution_count": 8,
      "outputs": [
        {
          "output_type": "stream",
          "name": "stdout",
          "text": [
            "Enter the string: python\n",
            "Sample output:\n",
            "noht\n"
          ]
        }
      ]
    },
    {
      "cell_type": "code",
      "source": [
        "#Arithmetic Operations\n",
        "\n",
        "## Taking two numbers from the user\n",
        "n1 = int(input(\"First number: \"))\n",
        "n2 = int(input(\"Second number: \"))\n",
        "\n",
        "# Performing arithmetic operations\n",
        "add_result = n1 + n2\n",
        "sub_result = n1 - n2\n",
        "multi_result = n1 * n2\n",
        "div_result = n1 / n2\n",
        "mod_result=n1%n2\n",
        "\n",
        "# Print the results of arithmetic operations\n",
        "print(\"Arithmetic Operations:\")\n",
        "print(f\"Addition: {add_result}\")\n",
        "print(f\"Subtraction: {sub_result}\")\n",
        "print(f\"Multiplication: {multi_result}\")\n",
        "print(f\"Division: {div_result}\")\n",
        "\n"
      ],
      "metadata": {
        "colab": {
          "base_uri": "https://localhost:8080/"
        },
        "id": "81ZAwk1pTX5L",
        "outputId": "9e70fb6f-6f84-4ca0-a5f6-d5c27e0ea5d2"
      },
      "execution_count": 9,
      "outputs": [
        {
          "output_type": "stream",
          "name": "stdout",
          "text": [
            "First number: 5\n",
            "Second number: 2\n",
            "Arithmetic Operations:\n",
            "Addition: 7\n",
            "Subtraction: 3\n",
            "Multiplication: 10\n",
            "Division: 2.5\n"
          ]
        }
      ]
    },
    {
      "cell_type": "code",
      "source": [
        "#Program 2\n",
        "\n",
        "# Taking a sentence from the user\n",
        "inp_sentence = input(\"Enter a sentence: \")\n",
        "\n",
        "# Replacing each occurrence of 'python' with 'pythons'\n",
        "op_sentence = inp_sentence.replace('python', 'pythons')\n",
        "\n",
        "# Print the modified sentence\n",
        "print(\"Sample output:\")\n",
        "print(op_sentence)"
      ],
      "metadata": {
        "colab": {
          "base_uri": "https://localhost:8080/"
        },
        "id": "7s0JEQ0qcnDr",
        "outputId": "234873da-98e2-4c0a-c380-832ca30ae67c"
      },
      "execution_count": 10,
      "outputs": [
        {
          "output_type": "stream",
          "name": "stdout",
          "text": [
            "Enter a sentence: I love playing with python\n",
            "Sample output:\n",
            "I love playing with pythons\n"
          ]
        }
      ]
    },
    {
      "cell_type": "code",
      "source": [
        "#PROGRAM 3\n",
        "# Take the class score from the user\n",
        "cls_score = float(input(\"Enter class score: \"))\n",
        "\n",
        "# Determining the letter grade based on the grading scheme\n",
        "if 90 <= cls_score <= 100:\n",
        "    grade = 'A'\n",
        "elif 80 <= cls_score < 90:\n",
        "    grade = 'B'\n",
        "elif 70 <= cls_score < 80:\n",
        "    grade = 'C'\n",
        "elif 60 <= cls_score < 70:\n",
        "    grade = 'D'\n",
        "else:\n",
        "    grade = 'F'\n",
        "\n",
        "# Print the letter grade\n",
        "print(f\"The grade {cls_score} is: {grade}\")\n"
      ],
      "metadata": {
        "colab": {
          "base_uri": "https://localhost:8080/"
        },
        "id": "mYYpuomBcuyk",
        "outputId": "983cac6b-0edc-4673-930f-a904b2cf9a11"
      },
      "execution_count": 11,
      "outputs": [
        {
          "output_type": "stream",
          "name": "stdout",
          "text": [
            "Enter class score: 64\n",
            "The grade 64.0 is: D\n"
          ]
        }
      ]
    }
  ]
}